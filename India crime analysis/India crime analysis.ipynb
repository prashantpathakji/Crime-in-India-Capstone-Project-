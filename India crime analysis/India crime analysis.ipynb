{
 "cells": [
  {
   "cell_type": "code",
   "execution_count": 1,
   "id": "be518d75",
   "metadata": {},
   "outputs": [],
   "source": [
    "import pandas as pd"
   ]
  },
  {
   "cell_type": "markdown",
   "id": "c461d817",
   "metadata": {},
   "source": [
    "# Remarks:-\n",
    "All data collected from Google.\n",
    "I am creating a small dataset of India in which I am puting these columns- \n",
    "\n",
    "(i) Year \n",
    "\n",
    "(ii) Population (# population in crore)\n",
    "\n",
    "(iii) Sex Ratio (# Female per 1000 Male)\n",
    "\n",
    "(iv) Crime Rate (IPC+SLL).   (# crime per 100,000 people).\n",
    "\n",
    "\n",
    "\n"
   ]
  },
  {
   "cell_type": "code",
   "execution_count": 2,
   "id": "8195f41d",
   "metadata": {},
   "outputs": [],
   "source": [
    "data=[[2001,102.87,933,65.38,520.4],[2011,121.08,943,74.04,516.7],[2021,139.34,1020,94.02,445.9]]\n",
    "df=pd.DataFrame(data, columns=['Year','Population','Sex-Ratio','Literacy-Rate','Total Crime-Rate(IPC+SLL)'])"
   ]
  },
  {
   "cell_type": "code",
   "execution_count": 3,
   "id": "cb6a3f82",
   "metadata": {},
   "outputs": [
    {
     "data": {
      "text/html": [
       "<div>\n",
       "<style scoped>\n",
       "    .dataframe tbody tr th:only-of-type {\n",
       "        vertical-align: middle;\n",
       "    }\n",
       "\n",
       "    .dataframe tbody tr th {\n",
       "        vertical-align: top;\n",
       "    }\n",
       "\n",
       "    .dataframe thead th {\n",
       "        text-align: right;\n",
       "    }\n",
       "</style>\n",
       "<table border=\"1\" class=\"dataframe\">\n",
       "  <thead>\n",
       "    <tr style=\"text-align: right;\">\n",
       "      <th></th>\n",
       "      <th>Year</th>\n",
       "      <th>Population</th>\n",
       "      <th>Sex-Ratio</th>\n",
       "      <th>Literacy-Rate</th>\n",
       "      <th>Total Crime-Rate(IPC+SLL)</th>\n",
       "    </tr>\n",
       "  </thead>\n",
       "  <tbody>\n",
       "    <tr>\n",
       "      <th>0</th>\n",
       "      <td>2001</td>\n",
       "      <td>102.87</td>\n",
       "      <td>933</td>\n",
       "      <td>65.38</td>\n",
       "      <td>520.4</td>\n",
       "    </tr>\n",
       "    <tr>\n",
       "      <th>1</th>\n",
       "      <td>2011</td>\n",
       "      <td>121.08</td>\n",
       "      <td>943</td>\n",
       "      <td>74.04</td>\n",
       "      <td>516.7</td>\n",
       "    </tr>\n",
       "    <tr>\n",
       "      <th>2</th>\n",
       "      <td>2021</td>\n",
       "      <td>139.34</td>\n",
       "      <td>1020</td>\n",
       "      <td>94.02</td>\n",
       "      <td>445.9</td>\n",
       "    </tr>\n",
       "  </tbody>\n",
       "</table>\n",
       "</div>"
      ],
      "text/plain": [
       "   Year  Population  Sex-Ratio  Literacy-Rate  Total Crime-Rate(IPC+SLL)\n",
       "0  2001      102.87        933          65.38                      520.4\n",
       "1  2011      121.08        943          74.04                      516.7\n",
       "2  2021      139.34       1020          94.02                      445.9"
      ]
     },
     "execution_count": 3,
     "metadata": {},
     "output_type": "execute_result"
    }
   ],
   "source": [
    "df"
   ]
  },
  {
   "cell_type": "code",
   "execution_count": 4,
   "id": "bb42f32a",
   "metadata": {},
   "outputs": [],
   "source": [
    "import matplotlib.pyplot as plt\n",
    "import seaborn as sns"
   ]
  },
  {
   "cell_type": "code",
   "execution_count": 5,
   "id": "cd457cfc",
   "metadata": {},
   "outputs": [],
   "source": [
    "column=['Population','Sex-Ratio','Literacy-Rate','Total Crime-Rate(IPC+SLL)']"
   ]
  },
  {
   "cell_type": "code",
   "execution_count": 6,
   "id": "f74d0934",
   "metadata": {},
   "outputs": [
    {
     "data": {
      "image/png": "[encoded data removed]",
      "text/plain": [
       "<Figure size 432x288 with 1 Axes>"
      ]
     },
     "metadata": {
      "needs_background": "light"
     },
     "output_type": "display_data"
    },
    {
     "data": {
      "text/plain": [
       "<Figure size 72x72 with 0 Axes>"
      ]
     },
     "metadata": {},
     "output_type": "display_data"
    },
    {
     "data": {
      "image/png": "[encoded data removed]",
      "text/plain": [
       "<Figure size 432x288 with 1 Axes>"
      ]
     },
     "metadata": {
      "needs_background": "light"
     },
     "output_type": "display_data"
    },
    {
     "data": {
      "text/plain": [
       "<Figure size 72x72 with 0 Axes>"
      ]
     },
     "metadata": {},
     "output_type": "display_data"
    },
    {
     "data": {
      "image/png": "[encoded data removed]",
      "text/plain": [
       "<Figure size 432x288 with 1 Axes>"
      ]
     },
     "metadata": {
      "needs_background": "light"
     },
     "output_type": "display_data"
    },
    {
     "data": {
      "text/plain": [
       "<Figure size 72x72 with 0 Axes>"
      ]
     },
     "metadata": {},
     "output_type": "display_data"
    },
    {
     "data": {
      "image/png": "[encoded data removed]",
      "text/plain": [
       "<Figure size 432x288 with 1 Axes>"
      ]
     },
     "metadata": {
      "needs_background": "light"
     },
     "output_type": "display_data"
    },
    {
     "data": {
      "text/plain": [
       "<Figure size 72x72 with 0 Axes>"
      ]
     },
     "metadata": {},
     "output_type": "display_data"
    }
   ],
   "source": [
    "for i in column:\n",
    "    sns.barplot(x=df['Year'],y=df[i],data=df)\n",
    "    plt.figure(figsize=(1,1))\n",
    "    plt.show()\n"
   ]
  },
  {
   "cell_type": "code",
   "execution_count": 7,
   "id": "f28db592",
   "metadata": {},
   "outputs": [
    {
     "data": {
      "text/plain": [
       "<AxesSubplot:xlabel='Literacy-Rate', ylabel='Total Crime-Rate(IPC+SLL)'>"
      ]
     },
     "execution_count": 7,
     "metadata": {},
     "output_type": "execute_result"
    },
    {
     "data": {
      "image/png": "[encoded data removed]",
      "text/plain": [
       "<Figure size 432x288 with 1 Axes>"
      ]
     },
     "metadata": {
      "needs_background": "light"
     },
     "output_type": "display_data"
    }
   ],
   "source": [
    " sns.barplot(x=df['Literacy-Rate'],y=df['Total Crime-Rate(IPC+SLL)'],data=df)"
   ]
  },
  {
   "cell_type": "code",
   "execution_count": 8,
   "id": "8bdb5250",
   "metadata": {},
   "outputs": [
    {
     "data": {
      "text/plain": [
       "<AxesSubplot:xlabel='Sex-Ratio', ylabel='Total Crime-Rate(IPC+SLL)'>"
      ]
     },
     "execution_count": 8,
     "metadata": {},
     "output_type": "execute_result"
    },
    {
     "data": {
      "image/png": "[encoded data removed]",
      "text/plain": [
       "<Figure size 432x288 with 1 Axes>"
      ]
     },
     "metadata": {
      "needs_background": "light"
     },
     "output_type": "display_data"
    }
   ],
   "source": [
    "sns.barplot(x=df['Sex-Ratio'],y=df['Total Crime-Rate(IPC+SLL)'],data=df)"
   ]
  },
  {
   "cell_type": "code",
   "execution_count": 9,
   "id": "02b7405b",
   "metadata": {},
   "outputs": [
    {
     "data": {
      "text/html": [
       "<div>\n",
       "<style scoped>\n",
       "    .dataframe tbody tr th:only-of-type {\n",
       "        vertical-align: middle;\n",
       "    }\n",
       "\n",
       "    .dataframe tbody tr th {\n",
       "        vertical-align: top;\n",
       "    }\n",
       "\n",
       "    .dataframe thead th {\n",
       "        text-align: right;\n",
       "    }\n",
       "</style>\n",
       "<table border=\"1\" class=\"dataframe\">\n",
       "  <thead>\n",
       "    <tr style=\"text-align: right;\">\n",
       "      <th></th>\n",
       "      <th>Year</th>\n",
       "      <th>Population</th>\n",
       "      <th>Sex-Ratio</th>\n",
       "      <th>Literacy-Rate</th>\n",
       "      <th>Total Crime-Rate(IPC+SLL)</th>\n",
       "    </tr>\n",
       "  </thead>\n",
       "  <tbody>\n",
       "    <tr>\n",
       "      <th>Year</th>\n",
       "      <td>1.000000</td>\n",
       "      <td>1.000000</td>\n",
       "      <td>0.913750</td>\n",
       "      <td>0.974937</td>\n",
       "      <td>-0.887216</td>\n",
       "    </tr>\n",
       "    <tr>\n",
       "      <th>Population</th>\n",
       "      <td>1.000000</td>\n",
       "      <td>1.000000</td>\n",
       "      <td>0.914071</td>\n",
       "      <td>0.975113</td>\n",
       "      <td>-0.887581</td>\n",
       "    </tr>\n",
       "    <tr>\n",
       "      <th>Sex-Ratio</th>\n",
       "      <td>0.913750</td>\n",
       "      <td>0.914071</td>\n",
       "      <td>1.000000</td>\n",
       "      <td>0.981237</td>\n",
       "      <td>-0.998131</td>\n",
       "    </tr>\n",
       "    <tr>\n",
       "      <th>Literacy-Rate</th>\n",
       "      <td>0.974937</td>\n",
       "      <td>0.975113</td>\n",
       "      <td>0.981237</td>\n",
       "      <td>1.000000</td>\n",
       "      <td>-0.967622</td>\n",
       "    </tr>\n",
       "    <tr>\n",
       "      <th>Total Crime-Rate(IPC+SLL)</th>\n",
       "      <td>-0.887216</td>\n",
       "      <td>-0.887581</td>\n",
       "      <td>-0.998131</td>\n",
       "      <td>-0.967622</td>\n",
       "      <td>1.000000</td>\n",
       "    </tr>\n",
       "  </tbody>\n",
       "</table>\n",
       "</div>"
      ],
      "text/plain": [
       "                               Year  Population  Sex-Ratio  Literacy-Rate  \\\n",
       "Year                       1.000000    1.000000   0.913750       0.974937   \n",
       "Population                 1.000000    1.000000   0.914071       0.975113   \n",
       "Sex-Ratio                  0.913750    0.914071   1.000000       0.981237   \n",
       "Literacy-Rate              0.974937    0.975113   0.981237       1.000000   \n",
       "Total Crime-Rate(IPC+SLL) -0.887216   -0.887581  -0.998131      -0.967622   \n",
       "\n",
       "                           Total Crime-Rate(IPC+SLL)  \n",
       "Year                                       -0.887216  \n",
       "Population                                 -0.887581  \n",
       "Sex-Ratio                                  -0.998131  \n",
       "Literacy-Rate                              -0.967622  \n",
       "Total Crime-Rate(IPC+SLL)                   1.000000  "
      ]
     },
     "execution_count": 9,
     "metadata": {},
     "output_type": "execute_result"
    }
   ],
   "source": [
    "df.corr()"
   ]
  },
  {
   "cell_type": "code",
   "execution_count": 18,
   "id": "79c4f5c2",
   "metadata": {},
   "outputs": [
    {
     "data": {
      "image/png": "[encoded data removed]",
      "text/plain": [
       "<Figure size 432x288 with 2 Axes>"
      ]
     },
     "metadata": {
      "needs_background": "light"
     },
     "output_type": "display_data"
    }
   ],
   "source": [
    "col=sns.color_palette(\"PiYG\", 12)\n",
    "sns.heatmap(df.corr(),annot=True,linewidths = 2,linecolor = \"yellow\",cmap=col)\n",
    "plt.show()"
   ]
  },
  {
   "cell_type": "markdown",
   "id": "ae5688f2",
   "metadata": {},
   "source": [
    "## Results:\n",
    "Based on the above analysis, we can say that the population of India is also increasing along with time and the literacy rate of India is also increasing along with time.\n",
    "There has been a lot of improvement in the sex ratio of the country over the time.It's a good news for our country.\n",
    "An important fact has emerged in our analysis that \"as the literacy rate of india increases, the crime rate of india decreases acordingly.\n",
    "\n",
    "So it seems to me that if we have to reduce the crime rate then we have to increase India's literacy rate and sex ratio.\n",
    "Apart from that we also have to control the increasing population over time.\n",
    "\n"
   ]
  },
  {
   "cell_type": "code",
   "execution_count": 19,
   "id": "61121e30",
   "metadata": {},
   "outputs": [],
   "source": [
    "# saving the dataframe\n",
    "df.to_csv('india.csv')\n"
   ]
  }
 ],
 "metadata": {
  "kernelspec": {
   "display_name": "Python 3 (ipykernel)",
   "language": "python",
   "name": "python3"
  },
  "language_info": {
   "codemirror_mode": {
    "name": "ipython",
    "version": 3
   },
   "file_extension": ".py",
   "mimetype": "text/x-python",
   "name": "python",
   "nbconvert_exporter": "python",
   "pygments_lexer": "ipython3",
   "version": "3.9.12"
  }
 },
 "nbformat": 4,
 "nbformat_minor": 5
}
